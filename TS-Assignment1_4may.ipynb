{
 "cells": [
  {
   "cell_type": "code",
   "execution_count": null,
   "id": "90a45558",
   "metadata": {},
   "outputs": [],
   "source": [
    "Q1. What is a time series, and what are some common applications of time series analysis?"
   ]
  },
  {
   "cell_type": "markdown",
   "id": "2a96b073",
   "metadata": {},
   "source": [
    "#### Time series is a machine learning technique that forecasts target value based solely on a known history of target values.\n",
    "\n",
    "-- the daily closing prices over one year for a single financial security\n",
    "\n",
    "-- single patient's heart rate measured every minute over a one-hour procedure"
   ]
  },
  {
   "cell_type": "code",
   "execution_count": null,
   "id": "863e1f1c",
   "metadata": {},
   "outputs": [],
   "source": [
    "Q2. What are some common time series patterns, and how can they be identified and interpreted?"
   ]
  },
  {
   "cell_type": "markdown",
   "id": "a9451112",
   "metadata": {},
   "source": [
    "#### There are three types of time series patterns: trend, seasonal, and cyclic.\n",
    "\n",
    "-- Trend: A trend pattern exists when there is a long-term increase or decrease in the series. The trend can be linear, exponential, or different one and can change direction during time\n",
    "    \n",
    "-- seasonal: Seasonality exists when data is influenced by seasonal factors, such as a day of the week, a month, and one-quarter of the year. A seasonal pattern exists of a fixed known period.\n",
    "    \n",
    "-- cyclic: cyclic pattern occurs when data rise and fall, but this does not happen within the fixed time and the duration of these fluctuations is usually at least 2 years"
   ]
  },
  {
   "cell_type": "code",
   "execution_count": null,
   "id": "ce79e725",
   "metadata": {},
   "outputs": [],
   "source": [
    "Q3. How can time series data be preprocessed before applying analysis techniques?"
   ]
  },
  {
   "cell_type": "markdown",
   "id": "467a56c3",
   "metadata": {},
   "source": [
    "1. Data Ingesiton\n",
    "\n",
    "2. Eda of the data\n",
    "\n",
    "3. processing of the data"
   ]
  },
  {
   "cell_type": "code",
   "execution_count": null,
   "id": "15a68c6b",
   "metadata": {},
   "outputs": [],
   "source": [
    "Q4. How can time series forecasting be used in business decision-making, and what are some common \n",
    "challenges and limitations?"
   ]
  },
  {
   "cell_type": "markdown",
   "id": "36dcdc0b",
   "metadata": {},
   "source": [
    "#### Time series analysis is recording data at regular intervals. The analysis helps in forecasting future values based on past trends, which often leads to an informed decision, crucial for business.\n",
    "\n",
    "\n",
    "-- The main disadvantage is that if a model has been built on historical data, it cannot be used to predict future values or trends because no one can guarantee that the historical data will remain the same as time passes\n",
    "\n",
    "--One of the biggest challenges of business forecasting is compiling the proper research. You won't be able to forecast your business's sales and earnings if you don't understand the demand of what you sell."
   ]
  },
  {
   "cell_type": "code",
   "execution_count": null,
   "id": "ad162532",
   "metadata": {},
   "outputs": [],
   "source": [
    "Q5. What is ARIMA modelling, and how can it be used to forecast time series data?"
   ]
  },
  {
   "cell_type": "markdown",
   "id": "2d054f8d",
   "metadata": {},
   "source": [
    "#### An autoregressive integrated moving average, or ARIMA, is a statistical analysis model that uses time series data to either better understand the data set or to predict future trends. A statistical model is autoregressive if it predicts future values based on past values.\n",
    "\n",
    "#### ARIMA models use differencing to convert a non-stationary time series into a stationary one, and then predict future values from historical data. These models use “auto” correlations and moving averages over residual errors in the data to forecast future values."
   ]
  },
  {
   "cell_type": "code",
   "execution_count": null,
   "id": "f88598c2",
   "metadata": {},
   "outputs": [],
   "source": [
    "Q6. How do Autocorrelation Function (ACF) and Partial Autocorrelation Function (PACF) plots help in \n",
    "identifying the order of ARIMA models?"
   ]
  },
  {
   "cell_type": "markdown",
   "id": "ca6938f7",
   "metadata": {},
   "source": [
    "#### Non-seasonal ARIMA models are generally denoted ARIMA(p,d,q) where parameters p, d, and q are non-negative integers, p is the order (number of time lags) of the autoregressive model, d is the degree of differencing (the number of times the data have had past values subtracted), and q is the order of the moving-average\n",
    "\n",
    "-- we will get to know, the bast lag value at which correlation starting degrades from high values.\n",
    "\n",
    "-- the lag value is the order of ARIMA model"
   ]
  },
  {
   "cell_type": "code",
   "execution_count": null,
   "id": "88c14e98",
   "metadata": {},
   "outputs": [],
   "source": [
    "Q7. What are the assumptions of ARIMA models, and how can they be tested for in practice?"
   ]
  },
  {
   "cell_type": "markdown",
   "id": "d8866ebd",
   "metadata": {},
   "source": [
    "1. Data should be stationary – by stationary it means that the properties of the series doesn’t depend on the time when it is captured. A white noise series and series with cyclic behavior can also be considered as stationary series.\n",
    "2. Data should be univariate – ARIMA works on a single variable. Auto-regression is all about regression with the past values."
   ]
  },
  {
   "cell_type": "code",
   "execution_count": null,
   "id": "32d2d581",
   "metadata": {},
   "outputs": [],
   "source": [
    "Q8. Suppose you have monthly sales data for a retail store for the past three years. Which type of time \n",
    "series model would you recommend for forecasting future sales, and why?"
   ]
  },
  {
   "cell_type": "markdown",
   "id": "b2078fdd",
   "metadata": {},
   "source": [
    "#### Moving average models can be used to help forecast future sales by taking into account past sales data.\n",
    "\n",
    "### it will give motre weightage to the laetst dataa nd predict teh future values."
   ]
  },
  {
   "cell_type": "code",
   "execution_count": null,
   "id": "c72886cd",
   "metadata": {},
   "outputs": [],
   "source": [
    "Q9. What are some of the limitations of time series analysis? Provide an example of a scenario where the \n",
    "limitations of time series analysis may be particularly relevant."
   ]
  },
  {
   "cell_type": "markdown",
   "id": "9cf8246b",
   "metadata": {},
   "source": [
    "1. Forwecasting: \n",
    "2. Analysing the impact of simple event\n",
    "3. Analysing casual patterns"
   ]
  },
  {
   "cell_type": "code",
   "execution_count": null,
   "id": "7a80acbc",
   "metadata": {},
   "outputs": [],
   "source": [
    "Q10. Explain the difference between a stationary and non-stationary time series. How does the stationarity \n",
    "of a time series affect the choice of forecasting model?"
   ]
  },
  {
   "cell_type": "markdown",
   "id": "10d19e14",
   "metadata": {},
   "source": [
    "#### A stationary time series has a constant variance and it always returns to the long-run mean. A time series whose statistical properties change over time is called a non-stationary time series. Thus a time series with a trend or seasonality is non-stationary in nature.\n",
    "\n",
    "-- A stationary time series is one whose properties do not depend on the time at which the series is observed.Thus, time series with trends, or with seasonality, are not stationary.\n",
    "\n",
    "-- ARMA models work well on stationary data whereas the ARIMA model works well on non-stationary data"
   ]
  }
 ],
 "metadata": {
  "kernelspec": {
   "display_name": "Python 3 (ipykernel)",
   "language": "python",
   "name": "python3"
  },
  "language_info": {
   "codemirror_mode": {
    "name": "ipython",
    "version": 3
   },
   "file_extension": ".py",
   "mimetype": "text/x-python",
   "name": "python",
   "nbconvert_exporter": "python",
   "pygments_lexer": "ipython3",
   "version": "3.9.13"
  }
 },
 "nbformat": 4,
 "nbformat_minor": 5
}
