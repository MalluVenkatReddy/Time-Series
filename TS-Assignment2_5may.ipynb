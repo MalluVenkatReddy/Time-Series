{
 "cells": [
  {
   "cell_type": "code",
   "execution_count": null,
   "id": "42640037",
   "metadata": {},
   "outputs": [],
   "source": [
    "Q1. What is meant by time-dependent seasonal components?"
   ]
  },
  {
   "cell_type": "markdown",
   "id": "5740a2de",
   "metadata": {},
   "source": [
    "#### A seasonal effect is a systematic and calendar related effect. Some examples include the sharp escalation in most Retail series which occurs around December in response to the Christmas period, or an increase in water consumption in summer due to warmer weather."
   ]
  },
  {
   "cell_type": "code",
   "execution_count": null,
   "id": "52bf26d8",
   "metadata": {},
   "outputs": [],
   "source": [
    "Q2. How can time-dependent seasonal components be identified in time series data?"
   ]
  },
  {
   "cell_type": "markdown",
   "id": "deaa5ac5",
   "metadata": {},
   "source": [
    "#### The autocorrelation plot can help identify seasonality."
   ]
  },
  {
   "cell_type": "code",
   "execution_count": null,
   "id": "bd6f6b24",
   "metadata": {},
   "outputs": [],
   "source": [
    "Q3. What are the factors that can influence time-dependent seasonal components?"
   ]
  },
  {
   "cell_type": "markdown",
   "id": "dbf89c42",
   "metadata": {},
   "source": [
    "#### Seasonality may be caused by various factors, such as weather, vacation, and holidays and consists of periodic, repetitive, and generally regular and predictable patterns in the levels of a time series. Seasonal fluctuations in a time series can be contrasted with cyclical patterns"
   ]
  },
  {
   "cell_type": "code",
   "execution_count": null,
   "id": "76473c30",
   "metadata": {},
   "outputs": [],
   "source": [
    "Q4. How are autoregression models used in time series analysis and forecasting?"
   ]
  },
  {
   "cell_type": "markdown",
   "id": "9a699c5f",
   "metadata": {},
   "source": [
    "#### Autoregression is a time series model that uses observations from previous time steps as input to a regression equation to predict the value at the next time step.\n",
    "\n",
    "-- It is a very simple idea that can result in accurate forecasts on a range of time series problems"
   ]
  },
  {
   "cell_type": "code",
   "execution_count": null,
   "id": "40f5d92e",
   "metadata": {},
   "outputs": [],
   "source": [
    "Q5. How do you use autoregression models to make predictions for future time points?"
   ]
  },
  {
   "cell_type": "markdown",
   "id": "7ec73b04",
   "metadata": {},
   "source": [
    "#### For example, we can predict the value for the next time step (t+1) given the observations at the last two time steps (t-1 and t-2). As a regression model, this would look as follows:\n",
    "#### X(t+1) = b0 + b1*X(t-1) + b2*X(t-2)\n",
    "-- Because the regression model uses data from the same input variable at previous time steps, it is referred to as an autoregression (regression of self)."
   ]
  },
  {
   "cell_type": "markdown",
   "id": "985671b9",
   "metadata": {},
   "source": [
    "#### An autoregression model makes an assumption that the observations at previous time steps are useful to predict the value at the next time step.\n",
    "\n",
    "-- This relationship between variables is called correlation."
   ]
  },
  {
   "cell_type": "code",
   "execution_count": null,
   "id": "cdeec9d8",
   "metadata": {},
   "outputs": [],
   "source": [
    "Q6. What is a moving average (MA) model and how does it differ from other time series models?"
   ]
  },
  {
   "cell_type": "markdown",
   "id": "bbac171e",
   "metadata": {},
   "source": [
    "#### The moving average model is a time series model that accounts for very short-run autocorrelation. It basically states that the next observation is the mean of every past observation. The order of the moving average model, q, can usually be estimated by looking at the ACF plot of the time series."
   ]
  },
  {
   "cell_type": "markdown",
   "id": "e6e14724",
   "metadata": {},
   "source": [
    "#### The MA model is great because it's computationally efficient and yields a very stable forecast, in that it doesn't change drastically from one value to another. In addition, an MA model can be updated every time a new forecast is made; that is you add in the forecast errors and update the model."
   ]
  },
  {
   "cell_type": "code",
   "execution_count": null,
   "id": "c7e46a43",
   "metadata": {},
   "outputs": [],
   "source": [
    "Q7. What is a mixed ARMA model and how does it differ from an AR or MA model?"
   ]
  },
  {
   "cell_type": "markdown",
   "id": "daa29acf",
   "metadata": {},
   "source": [
    "#### Autoregressive moving average models are simply a combination of an AR model and an MA model."
   ]
  }
 ],
 "metadata": {
  "kernelspec": {
   "display_name": "Python 3 (ipykernel)",
   "language": "python",
   "name": "python3"
  },
  "language_info": {
   "codemirror_mode": {
    "name": "ipython",
    "version": 3
   },
   "file_extension": ".py",
   "mimetype": "text/x-python",
   "name": "python",
   "nbconvert_exporter": "python",
   "pygments_lexer": "ipython3",
   "version": "3.9.13"
  }
 },
 "nbformat": 4,
 "nbformat_minor": 5
}
